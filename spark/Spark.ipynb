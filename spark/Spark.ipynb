{
 "cells": [
  {
   "cell_type": "code",
   "execution_count": 2,
   "metadata": {},
   "outputs": [
    {
     "name": "stdout",
     "output_type": "stream",
     "text": [
      "Collecting pyspark\n",
      "  Downloading pyspark-3.0.0.tar.gz (204.7 MB)\n",
      "\u001b[K     |████████████████████████████████| 204.7 MB 9.3 kB/s eta 0:00:01    |███▏                            | 20.4 MB 1.7 MB/s eta 0:01:52     |███▉                            | 24.3 MB 1.4 MB/s eta 0:02:12     |█████                           | 31.5 MB 1.2 MB/s eta 0:02:24     |█████▌                          | 35.5 MB 1.4 MB/s eta 0:02:04     |██████                          | 37.7 MB 1.5 MB/s eta 0:01:54     |██████                          | 38.5 MB 1.5 MB/s eta 0:01:53     |██████▏                         | 39.4 MB 1.4 MB/s eta 0:02:01     |██████▏                         | 39.6 MB 1.4 MB/s eta 0:02:01     |██████▍                         | 40.6 MB 989 kB/s eta 0:02:46     |██████▋                         | 42.5 MB 1.2 MB/s eta 0:02:15     |███████                         | 45.4 MB 1.3 MB/s eta 0:02:04     |████████▋                       | 55.2 MB 1.3 MB/s eta 0:01:57     |█████████▌                      | 60.6 MB 1.4 MB/s eta 0:01:40     |█████████▋                      | 61.3 MB 1.4 MB/s eta 0:01:41     |█████████▋                      | 61.5 MB 1.4 MB/s eta 0:01:41     |██████████                      | 64.0 MB 1.4 MB/s eta 0:01:38     |██████████▉                     | 69.1 MB 1.5 MB/s eta 0:01:34     |██████████████████▊             | 119.5 MB 1.2 MB/s eta 0:01:14     |███████████████████▉            | 127.2 MB 92 kB/s eta 0:13:55     |████████████████████▊           | 132.6 MB 1.4 MB/s eta 0:00:51     |█████████████████████▉          | 139.4 MB 1.4 MB/s eta 0:00:46     |██████████████████████▊         | 145.1 MB 1.2 MB/s eta 0:00:49     |██████████████████████▉         | 145.9 MB 1.4 MB/s eta 0:00:41     |███████████████████████         | 146.7 MB 1.4 MB/s eta 0:00:41     |███████████████████████▌        | 150.0 MB 79 kB/s eta 0:11:25     |███████████████████████▋        | 151.0 MB 79 kB/s eta 0:11:12     |███████████████████████▉        | 152.5 MB 1.2 MB/s eta 0:00:43     |██████████████████████████▍     | 169.0 MB 1.3 MB/s eta 0:00:28     |████████████████████████████    | 178.8 MB 1.2 MB/s eta 0:00:21     |████████████████████████████▌   | 182.6 MB 1.4 MB/s eta 0:00:16     |███████████████████████████████▊| 202.7 MB 1.2 MB/s eta 0:00:02\n",
      "\u001b[?25hCollecting py4j==0.10.9\n",
      "  Downloading py4j-0.10.9-py2.py3-none-any.whl (198 kB)\n",
      "\u001b[K     |████████████████████████████████| 198 kB 1.3 MB/s eta 0:00:01\n",
      "\u001b[?25hBuilding wheels for collected packages: pyspark\n",
      "  Building wheel for pyspark (setup.py) ... \u001b[?25ldone\n",
      "\u001b[?25h  Created wheel for pyspark: filename=pyspark-3.0.0-py2.py3-none-any.whl size=205044182 sha256=43a30a7596f31009fa38a617d931c501cb8ad68a2b14e19926685527c174c2f4\n",
      "  Stored in directory: /Users/ruthchavez/Library/Caches/pip/wheels/4e/c5/36/aef1bb711963a619063119cc032176106827a129c0be20e301\n",
      "Successfully built pyspark\n",
      "Installing collected packages: py4j, pyspark\n",
      "Successfully installed py4j-0.10.9 pyspark-3.0.0\n"
     ]
    }
   ],
   "source": [
    "!pip install pyspark"
   ]
  },
  {
   "cell_type": "code",
   "execution_count": 5,
   "metadata": {},
   "outputs": [
    {
     "ename": "AttributeError",
     "evalue": "'Builder' object has no attribute 'appname'",
     "output_type": "error",
     "traceback": [
      "\u001b[0;31m---------------------------------------------------------------------------\u001b[0m",
      "\u001b[0;31mAttributeError\u001b[0m                            Traceback (most recent call last)",
      "\u001b[0;32m<ipython-input-5-0f8433a9f4c7>\u001b[0m in \u001b[0;36m<module>\u001b[0;34m\u001b[0m\n\u001b[1;32m      3\u001b[0m \u001b[0;34m\u001b[0m\u001b[0m\n\u001b[1;32m      4\u001b[0m \u001b[0mspark\u001b[0m \u001b[0;34m=\u001b[0m \u001b[0mps\u001b[0m\u001b[0;34m.\u001b[0m\u001b[0msql\u001b[0m\u001b[0;34m.\u001b[0m\u001b[0mSparkSession\u001b[0m\u001b[0;34m.\u001b[0m\u001b[0mbuilder\u001b[0m\u001b[0;31m \u001b[0m\u001b[0;31m\\\u001b[0m\u001b[0;34m\u001b[0m\u001b[0;34m\u001b[0m\u001b[0m\n\u001b[0;32m----> 5\u001b[0;31m             \u001b[0;34m.\u001b[0m\u001b[0mmaster\u001b[0m\u001b[0;34m(\u001b[0m\u001b[0;34m'local[4]'\u001b[0m\u001b[0;34m)\u001b[0m\u001b[0;31m \u001b[0m\u001b[0;31m\\\u001b[0m\u001b[0;34m\u001b[0m\u001b[0;34m\u001b[0m\u001b[0m\n\u001b[0m\u001b[1;32m      6\u001b[0m             \u001b[0;34m.\u001b[0m\u001b[0mappname\u001b[0m\u001b[0;34m(\u001b[0m\u001b[0;34m'spark-lecture'\u001b[0m\u001b[0;34m)\u001b[0m\u001b[0;31m \u001b[0m\u001b[0;31m\\\u001b[0m\u001b[0;34m\u001b[0m\u001b[0;34m\u001b[0m\u001b[0m\n\u001b[1;32m      7\u001b[0m             \u001b[0;34m.\u001b[0m\u001b[0mgetOrCreate\u001b[0m\u001b[0;34m(\u001b[0m\u001b[0;34m)\u001b[0m\u001b[0;34m\u001b[0m\u001b[0;34m\u001b[0m\u001b[0m\n",
      "\u001b[0;31mAttributeError\u001b[0m: 'Builder' object has no attribute 'appname'"
     ]
    }
   ],
   "source": [
    "import pyspark as ps \n",
    "\n",
    "\n",
    "spark = ps.sql.SparkSession.builder \\\n",
    "            .master('local[4]') \\\n",
    "            .appname('spark-lecture') \\\n",
    "            .getOrCreate()\n",
    "\n",
    "sc = spark.sparkContext"
   ]
  },
  {
   "cell_type": "code",
   "execution_count": null,
   "metadata": {},
   "outputs": [],
   "source": []
  }
 ],
 "metadata": {
  "kernelspec": {
   "display_name": "Python 3",
   "language": "python",
   "name": "python3"
  },
  "language_info": {
   "codemirror_mode": {
    "name": "ipython",
    "version": 3
   },
   "file_extension": ".py",
   "mimetype": "text/x-python",
   "name": "python",
   "nbconvert_exporter": "python",
   "pygments_lexer": "ipython3",
   "version": "3.7.6"
  }
 },
 "nbformat": 4,
 "nbformat_minor": 4
}
